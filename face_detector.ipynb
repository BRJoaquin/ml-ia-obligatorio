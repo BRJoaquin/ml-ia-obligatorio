{
 "cells": [
  {
   "attachments": {},
   "cell_type": "markdown",
   "metadata": {},
   "source": [
    "# Facial Detection Using Machine Learning Techniques\n",
    "\n",
    "## Project Overview\n",
    "\n",
    "This Jupyter Notebook presents an implementation of a face detection system using traditional Machine Learning techniques. Although deep learning-based approaches have become more prominent in recent years, the earlier methods retain their relevance due to their computational efficiency and robustness. A prime example of such an approach is the Viola-Jones face detector.\n",
    "\n",
    "The purpose of this project is to build face detectors from classifiers. Instead of directly working with pixels, we'll use features extracted from the images. Our main goal is to develop computationally light classifiers capable of determining whether a given image is a face.\n",
    "\n",
    "The project follows the following steps:\n",
    "\n",
    "1. **Preprocessing**: Define the initial treatment of images, such as normalization, scaling, and application of general transformations.\n",
    "2. **Features**: Define the process of extracting Haar features and building the feature matrix.\n",
    "3. **Classifiers**: Implement classification algorithms seen in the course, including ensemble techniques.\n",
    "4. **Model Evaluation**: Evaluate different classifiers using validation and evaluation techniques seen in the course.\n",
    "5. **Attentional Cascade**: Implement the cascading classification mechanism.\n",
    "\n",
    "## Dataset\n",
    "\n",
    "The dataset consists of grayscale images, with pixel values ranging from 0 (black) to 255 (white). Of the `N` images, `p` are faces (positive examples) and `n` are backgrounds (negative examples).\n"
   ]
  },
  {
   "attachments": {},
   "cell_type": "markdown",
   "metadata": {},
   "source": [
    "# Setting Up the Environment using Conda\n",
    "\n",
    "## Pre-requisites\n",
    "\n",
    "1. **Python:** This project is written in Python, an interpreted high-level general-purpose programming language. Python must be installed on your machine. You can verify if Python is installed by typing `python --version` into your terminal. If Python is installed, this command should return a version number.\n",
    "\n",
    "2. **Conda:** Conda is an open-source package management system and environment management system. You should have Conda installed on your machine. To confirm, type `conda --version` in your terminal. If Conda is installed, this command will return a version number.\n",
    "\n",
    "If Python or Conda are not installed on your machine, you can download them from the [official Python website](https://www.python.org/) and [official Anaconda website](https://www.anaconda.com/products/distribution) respectively.\n",
    "\n",
    "## Conda Environment\n",
    "\n",
    "After ensuring that Python and Conda are installed, create a virtual environment for the project.\n",
    "\n",
    "1. **Create the environment**: We have provided an `environment.yml` file which contains a list of all the Python packages needed for the project. To create a new environment using this file, use the following command:\n",
    "\n",
    "```bash\n",
    "conda env create -f environment.yml\n",
    "```\n",
    "\n",
    "2. **Activate the environment**: After the new environment has been created, activate it with:\n",
    "\n",
    "```bash\n",
    "conda activate face_detection\n",
    "```\n",
    "\n"
   ]
  },
  {
   "cell_type": "code",
   "execution_count": null,
   "metadata": {},
   "outputs": [],
   "source": []
  }
 ],
 "metadata": {
  "kernelspec": {
   "display_name": "face_detection",
   "language": "python",
   "name": "python3"
  },
  "language_info": {
   "name": "python"
  },
  "orig_nbformat": 4
 },
 "nbformat": 4,
 "nbformat_minor": 2
}
